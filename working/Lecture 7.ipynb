{
 "cells": [
  {
   "cell_type": "markdown",
   "id": "3d811170",
   "metadata": {},
   "source": [
    "# Q2: Consistent plotting"
   ]
  },
  {
   "cell_type": "code",
   "execution_count": 63,
   "id": "92cbf373",
   "metadata": {},
   "outputs": [
    {
     "data": {
      "image/png": "[encoded data removed]",
      "text/plain": [
       "<Figure size 432x288 with 1 Axes>"
      ]
     },
     "metadata": {
      "needs_background": "light"
     },
     "output_type": "display_data"
    }
   ],
   "source": [
    "import numpy as np\n",
    "import matplotlib.pyplot as plt\n",
    "\n",
    "def myplot(fun):\n",
    "    def wrapper():\n",
    "        #fig, ax = plt.subplots()\n",
    "        plt.rcParams.update({'font.size': 14, 'figure.figsize': (6, 4)})\n",
    "        fig = fun()\n",
    "        plt.savefig(\"myImagePDF.pdf\", format=\"pdf\", bbox_inches=\"tight\")\n",
    "        return fig\n",
    "    return wrapper \n",
    "\n",
    "@myplot\n",
    "def plotter():\n",
    "    x = np.linspace(0, 10, 10)\n",
    "    y = np.linspace(0, 10, 10)\n",
    "    fig, ax = plt.subplots()\n",
    "    ax.plot(x, y)\n",
    "    ax.set_xlabel('x')\n",
    "    ax.set_ylabel('y')\n",
    "    return fig\n",
    "\n",
    "cb = plotter()"
   ]
  },
  {
   "cell_type": "markdown",
   "id": "53054128",
   "metadata": {},
   "source": [
    "# Q1: The stock market"
   ]
  },
  {
   "cell_type": "code",
   "execution_count": 36,
   "id": "db9313ed",
   "metadata": {},
   "outputs": [
    {
     "data": {
      "text/plain": [
       "array([0.24714, 0.39358, 0.35928])"
      ]
     },
     "execution_count": 36,
     "metadata": {},
     "output_type": "execute_result"
    }
   ],
   "source": [
    "import random\n",
    "\n",
    "states = np.array([0, 1, 2]) #bull, bear, stagnant\n",
    "#transition probabilities from starting state\n",
    "bull = np.array([0.9, 0.075, 0.025])\n",
    "bear = np.array([0.15, 0.8, 0.05])\n",
    "stagnant = np.array([0.25, 0.25, 0.5])\n",
    "s_counts = np.array([0., 0., 0.])\n",
    "\n",
    "def stock_market_1(states, s_counts, N_days):\n",
    "    for i in range(N_days):\n",
    "        state = np.random.choice(states)\n",
    "        if state==0:\n",
    "            if np.random.choice(bull) == bull[0]:\n",
    "                state = 0\n",
    "            if np.random.choice(bull) == bull[1]:\n",
    "                state = 1\n",
    "            if np.random.choice(bull) == bull[2]:\n",
    "                state = 2    \n",
    "        elif state == 1:\n",
    "            if np.random.choice(bear) == bear[0]:\n",
    "                state = 0\n",
    "            if np.random.choice(bear) == bear[1]:\n",
    "                state = 1\n",
    "            if np.random.choice(bear) == bear[2]:\n",
    "                state = 2\n",
    "        elif state == 2:\n",
    "            if np.random.choice(stagnant) == stagnant[0]:\n",
    "                state = 0\n",
    "            if np.random.choice(stagnant) == stagnant[1]:\n",
    "                state = 1\n",
    "            if np.random.choice(stagnant) == stagnant[2]:\n",
    "                state = 2\n",
    "    \n",
    "        s_counts[state] += 1\n",
    "    \n",
    "    for i in range(len(s_counts)):\n",
    "            s_counts[i] /= N_days\n",
    "            \n",
    "    return s_counts\n",
    "            \n",
    "stock_market_1(states, s_counts, 100000)"
   ]
  },
  {
   "cell_type": "code",
   "execution_count": 41,
   "id": "6db90361",
   "metadata": {},
   "outputs": [
    {
     "name": "stdout",
     "output_type": "stream",
     "text": [
      "[0.24703253 0.39360354 0.35937404]\n",
      "pyhton time: \n",
      "12 ms ± 254 µs per loop (mean ± std. dev. of 7 runs, 100 loops each)\n",
      "numba time: \n",
      "22.5 µs ± 227 ns per loop (mean ± std. dev. of 7 runs, 10000 loops each)\n"
     ]
    }
   ],
   "source": [
    "n_stock_market = njit(stock_market_1)\n",
    "print(n_stock_market(states, s_counts, 100000))\n",
    "\n",
    "print('pyhton time: ')\n",
    "%timeit stock_market_1(states, s_counts, 100)\n",
    "print('numba time: ')\n",
    "%timeit n_stock_market(states, s_counts, 100)"
   ]
  },
  {
   "cell_type": "code",
   "execution_count": null,
   "id": "a155f1cd",
   "metadata": {},
   "outputs": [],
   "source": []
  }
 ],
 "metadata": {
  "kernelspec": {
   "display_name": "Python 3 (ipykernel)",
   "language": "python",
   "name": "python3"
  },
  "language_info": {
   "codemirror_mode": {
    "name": "ipython",
    "version": 3
   },
   "file_extension": ".py",
   "mimetype": "text/x-python",
   "name": "python",
   "nbconvert_exporter": "python",
   "pygments_lexer": "ipython3",
   "version": "3.9.7"
  }
 },
 "nbformat": 4,
 "nbformat_minor": 5
}
