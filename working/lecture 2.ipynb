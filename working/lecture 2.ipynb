{
 "cells": [
  {
   "cell_type": "markdown",
   "id": "0f01359a",
   "metadata": {},
   "source": [
    "# Q1: Fun with arrays"
   ]
  },
  {
   "cell_type": "code",
   "execution_count": 27,
   "id": "3136442b",
   "metadata": {},
   "outputs": [
    {
     "name": "stdout",
     "output_type": "stream",
     "text": [
      "[[ 1  6 11]\n",
      " [ 2  7 12]\n",
      " [ 3  8 13]\n",
      " [ 4  9 14]\n",
      " [ 5 10 15]]\n",
      "[[ 2  7 12]\n",
      " [ 4  9 14]]\n",
      "[[1 1 1 1 1]\n",
      " [1 0 0 0 1]\n",
      " [1 0 0 0 1]\n",
      " [1 1 1 1 1]]\n"
     ]
    }
   ],
   "source": [
    "import numpy as np\n",
    "\n",
    "#Part A\n",
    "v = (np.arange(1, 16).reshape(3, 5)).transpose()\n",
    "print(v)\n",
    "\n",
    "v_p = v[1:4:2]\n",
    "print(v_p)\n",
    "\n",
    "\n",
    "#Part B\n",
    "lines = 4\n",
    "columns = 5\n",
    "v2 = np.zeros((lines, columns), dtype=int)\n",
    "v2[0,:] = 1\n",
    "v2[lines-1, :] = 1\n",
    "v2[:, 0] = 1\n",
    "v2[:, columns-1] = 1\n",
    "print(v2)\n"
   ]
  },
  {
   "cell_type": "markdown",
   "id": "a68e837d",
   "metadata": {},
   "source": [
    "# Q2: Histograms"
   ]
  },
  {
   "cell_type": "code",
   "execution_count": 1,
   "id": "4320e995",
   "metadata": {},
   "outputs": [
    {
     "name": "stdout",
     "output_type": "stream",
     "text": [
      "bin center  counts\n",
      "-20.21093194037355 3\n",
      "-13.29260130874136 4\n",
      "-6.374270677109173 9\n",
      "0.5440599545230143 22\n",
      "7.462390586155202 22\n",
      "14.38072121778739 22\n",
      "21.299051849419577 9\n",
      "28.217382481051764 7\n",
      "35.135713112683945 1\n"
     ]
    }
   ],
   "source": [
    "import numpy as np\n",
    "\n",
    "x = np.loadtxt('sample.txt', unpack=True)\n",
    "\n",
    "hist1, nbin = np.histogram(x, 10)\n",
    "\n",
    "m=np.zeros(len(nbin))    \n",
    "\n",
    "m = (nbin[1:] + nbin[:-1])/2\n",
    "\n",
    "print('bin center  counts')\n",
    "for i, j in zip(m[1:len(m)], hist1):\n",
    "    print(i, j)"
   ]
  },
  {
   "cell_type": "markdown",
   "id": "dc04cfde",
   "metadata": {},
   "source": [
    "# Q3: Are you faster than numpy? No"
   ]
  },
  {
   "cell_type": "code",
   "execution_count": 22,
   "id": "08a77642",
   "metadata": {},
   "outputs": [
    {
     "name": "stdout",
     "output_type": "stream",
     "text": [
      "my result: 288.6749902572095\n",
      "runtime: 0.0002556581497192383 s\n",
      "numpy function: 288.6749902572095\n",
      "runtime: 4.681897163391113e-05 s\n"
     ]
    }
   ],
   "source": [
    "import numpy as np\n",
    "import time\n",
    "\n",
    "a = np.arange(1000)\n",
    "\n",
    "def a_std(a):\n",
    "    a_mean = sum(a)/len(a)\n",
    "    num = (a[0:]-a_mean)**2\n",
    "    s = np.sqrt(sum(num)/len(a))\n",
    "    return s\n",
    "\n",
    "t0 = time.time()\n",
    "for i in range(1000):\n",
    "    my_std = a_std(a)\n",
    "    \n",
    "t1 = time.time()\n",
    "\n",
    "print('my result:', a_std(a))\n",
    "print(\"runtime: {} s\".format((t1-t0)/1000))\n",
    "\n",
    "t2 = time.time()\n",
    "for i in range(1000):\n",
    "    st = np.std(a) \n",
    "\n",
    "t3 = time.time()\n",
    "print('numpy function:', np.std(a))\n",
    "print(\"runtime: {} s\".format((t3-t2)/1000))"
   ]
  },
  {
   "cell_type": "code",
   "execution_count": null,
   "id": "0714b989",
   "metadata": {},
   "outputs": [],
   "source": []
  },
  {
   "cell_type": "code",
   "execution_count": null,
   "id": "fc869a66",
   "metadata": {},
   "outputs": [],
   "source": []
  }
 ],
 "metadata": {
  "kernelspec": {
   "display_name": "Python 3 (ipykernel)",
   "language": "python",
   "name": "python3"
  },
  "language_info": {
   "codemirror_mode": {
    "name": "ipython",
    "version": 3
   },
   "file_extension": ".py",
   "mimetype": "text/x-python",
   "name": "python",
   "nbconvert_exporter": "python",
   "pygments_lexer": "ipython3",
   "version": "3.9.7"
  }
 },
 "nbformat": 4,
 "nbformat_minor": 5
}
