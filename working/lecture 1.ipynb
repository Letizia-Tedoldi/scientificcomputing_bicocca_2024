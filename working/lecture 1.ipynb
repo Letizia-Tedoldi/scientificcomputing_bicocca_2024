{
 "cells": [
  {
   "cell_type": "markdown",
   "id": "7a601d1f",
   "metadata": {},
   "source": [
    "# Q1: Machine precision"
   ]
  },
  {
   "cell_type": "code",
   "execution_count": 7,
   "id": "d09cb1cf",
   "metadata": {},
   "outputs": [
    {
     "name": "stdout",
     "output_type": "stream",
     "text": [
      "eps= 2.220446049250313e-16\n"
     ]
    }
   ],
   "source": [
    "eps = 1\n",
    "\n",
    "while 1+eps != 1:  \n",
    "    eps=eps/2\n",
    "\n",
    "print('eps=', eps*2)"
   ]
  },
  {
   "cell_type": "markdown",
   "id": "53121b9f",
   "metadata": {},
   "source": [
    "# Q3: Books"
   ]
  },
  {
   "cell_type": "code",
   "execution_count": 3,
   "id": "6afdea4c",
   "metadata": {},
   "outputs": [
    {
     "name": "stdout",
     "output_type": "stream",
     "text": [
      "Don Quixote\n",
      "In Search Of Lost Time\n",
      "Ulysses\n",
      "The Odyssey\n",
      "War And Peace\n",
      "Moby Dick\n",
      "The Divine Comedy\n",
      "Hamlet\n",
      "The Adventures Of Huckleberry Finn\n",
      "The Great Gatsby\n"
     ]
    }
   ],
   "source": [
    "titles = [\"don quixote\", \n",
    "          \"in search of lost time\", \n",
    "          \"ulysses\", \n",
    "          \"the odyssey\", \n",
    "          \"war and peace\", \n",
    "          \"moby dick\", \n",
    "          \"the divine comedy\", \n",
    "          \"hamlet\", \n",
    "          \"the adventures of huckleberry finn\", \n",
    "          \"the great gatsby\"]\n",
    "\n",
    "#if the entire word is in capsize\n",
    "#for i in range(len(titles)):\n",
    "#    t=titles[i].upper()\n",
    "    #print(t)\n",
    "\n",
    "for t in titles:\n",
    "    #print(t)\n",
    "    print( ' '.join([x[0].upper()+x[1:] for x in t.split(' ')]) )\n",
    "    "
   ]
  },
  {
   "cell_type": "markdown",
   "id": "fa19d55c",
   "metadata": {},
   "source": [
    "# Q5: foxes and dogs\n"
   ]
  },
  {
   "cell_type": "code",
   "execution_count": 1,
   "id": "4d9a2acd",
   "metadata": {},
   "outputs": [
    {
     "name": "stdout",
     "output_type": "stream",
     "text": [
      "['quick', 'brown', 'jumps']\n",
      "True\n"
     ]
    }
   ],
   "source": [
    "#Part 1\n",
    "def n_letter_words(message, n):\n",
    "    words = message.split()\n",
    "    n_letters = [w for w in words if len(w) == n]\n",
    "    return n_letters\n",
    "\n",
    "message = \"The quick brown fox jumps over the lazy dog\"\n",
    "n = 5\n",
    "print(n_letter_words(message, n))\n",
    "\n",
    "#Part 2\n",
    "alphabet = ['a', 'b', 'c', 'd', 'e', 'f', 'g', 'h', 'i', 'j', 'k', 'l', 'm', 'n', 'o', 'p', 'q', 'r', 's', 't', 'u', 'v', 'w', 'x', 'y', 'z']\n",
    "    \n",
    "def panagram_finder(message):\n",
    "    v_temp=[] #list of all the letters of the message\n",
    "    v = [] #final list of the letters in alphabetical order with no repetitions\n",
    "    \n",
    "    words = message.split()\n",
    "    for w in words:\n",
    "        for j in range(len(alphabet)):\n",
    "            for i in range(len(w)):\n",
    "                if w[i].lower() == alphabet[j]: #.lower() to consider also the capital letters of the message\n",
    "                    v_temp.append(alphabet[j])   \n",
    "               \n",
    "    v_temp=sorted(v_temp) #letters moved in alphabetical order\n",
    "    #print(v_temp)  \n",
    "    \n",
    "    for i in range(len(v_temp)):\n",
    "        if v_temp[i]!=v_temp[i-1]:\n",
    "            v.append(v_temp[i])       \n",
    "    if v==alphabet:   \n",
    "            return True\n",
    "    else: return False       \n",
    "\n",
    "print(panagram_finder(message))"
   ]
  },
  {
   "cell_type": "code",
   "execution_count": null,
   "id": "f4b2e417",
   "metadata": {},
   "outputs": [],
   "source": []
  }
 ],
 "metadata": {
  "kernelspec": {
   "display_name": "Python 3 (ipykernel)",
   "language": "python",
   "name": "python3"
  },
  "language_info": {
   "codemirror_mode": {
    "name": "ipython",
    "version": 3
   },
   "file_extension": ".py",
   "mimetype": "text/x-python",
   "name": "python",
   "nbconvert_exporter": "python",
   "pygments_lexer": "ipython3",
   "version": "3.9.7"
  }
 },
 "nbformat": 4,
 "nbformat_minor": 5
}
